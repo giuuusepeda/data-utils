{
  "cells": [
    {
      "cell_type": "markdown",
      "metadata": {},
      "source": [
        "# Pipeline de Carregamento e Transformacao usando o API WHO\n",
        "\n",
        "Este notebook implementa um fluxo de ETL (Extract, Transform, Load) para:\n",
        "-  Carregar dados da API da OMS (WHO)\n",
        "-  Transformar e limpar os dados\n",
        "-  Exportar um dataset pronto para análise"
      ]
    },
    {
      "cell_type": "markdown",
      "metadata": {},
      "source": [
        "## Set up"
      ]
    },
    {
      "cell_type": "markdown",
      "metadata": {},
      "source": [
        "Importa 'data_utils' como pacote"
      ]
    },
    {
      "cell_type": "code",
      "execution_count": null,
      "metadata": {},
      "outputs": [],
      "source": [
        "import sys\n",
        "sys.path.append (r'C:\\Users\\giuli\\Documents\\GitHub')\n",
        "from data_utils import get_who_data, clean_column_names, save_to_csv, plot_line, drop_empty_columns, check_data_quality\n",
        "#from data_utils import *"
      ]
    },
    {
      "cell_type": "markdown",
      "metadata": {},
      "source": [
        "Carrega os pacotes necessarios"
      ]
    },
    {
      "cell_type": "code",
      "execution_count": null,
      "metadata": {},
      "outputs": [],
      "source": [
        "import pandas as pd\n",
        "import matplotlib.pyplot as plt\n",
        "import numpy as np\n",
        "import data_utils\n"
      ]
    },
    {
      "cell_type": "markdown",
      "metadata": {},
      "source": [
        "## Carrega dados da API Who"
      ]
    },
    {
      "cell_type": "markdown",
      "metadata": {},
      "source": [
        "A função 'get_who_data(ID)' busca dados do WHO com base no ID do indicador\n",
        "\n",
        "o ID do indicador é encontrado [aqui](https://ghoapi.azureedge.net/api/Indicator)\n",
        "\n",
        "Exporta o indicador solicitado (Mortalidade materna) do WHO para um dataframe e exibe as primeiras linhas"
      ]
    },
    {
      "cell_type": "code",
      "execution_count": null,
      "metadata": {},
      "outputs": [],
      "source": [
        "df = get_who_data('MDG_0000000026')"
      ]
    },
    {
      "cell_type": "markdown",
      "metadata": {},
      "source": [
        "a função 'save_to_csv()' salva o dataframe em um arquivo CSV sem indice do pandas \n",
        "\n",
        "argumentos sao o dataframe e o nome do arquivo que sera salvo"
      ]
    },
    {
      "cell_type": "code",
      "execution_count": null,
      "metadata": {},
      "outputs": [],
      "source": [
        "save_to_csv(df, 'maternal_mortality.csv')"
      ]
    },
    {
      "cell_type": "markdown",
      "metadata": {},
      "source": [
        "## Limpeza"
      ]
    },
    {
      "cell_type": "markdown",
      "metadata": {},
      "source": [
        "A função 'clean_column_names()' padroniza em minúsculas e troca espaços por \"_\""
      ]
    },
    {
      "cell_type": "code",
      "execution_count": null,
      "metadata": {
        "colab": {
          "base_uri": "https://localhost:8080/",
          "height": 394
        },
        "id": "wo6kpH0NKf35",
        "outputId": "ba882452-9fcf-4f67-e1fb-397accc1fad4"
      },
      "outputs": [],
      "source": [
        "df = clean_column_names(df)"
      ]
    },
    {
      "cell_type": "markdown",
      "metadata": {},
      "source": [
        "a função drop_empty_columns remove colunas vazias"
      ]
    },
    {
      "cell_type": "code",
      "execution_count": null,
      "metadata": {},
      "outputs": [],
      "source": [
        "df = drop_empty_columns(df)"
      ]
    },
    {
      "cell_type": "code",
      "execution_count": 15,
      "metadata": {},
      "outputs": [],
      "source": [
        "# funcao read_csv do pandas lê o arquivo CSV e cria um dataframe\n",
        "df = pd.read_csv(\"maternal_mortality.csv\")"
      ]
    }
  ],
  "metadata": {
    "colab": {
      "authorship_tag": "ABX9TyNrhbqS9bt6LNRfi5GqLzFW",
      "provenance": []
    },
    "kernelspec": {
      "display_name": "venv",
      "language": "python",
      "name": "python3"
    },
    "language_info": {
      "codemirror_mode": {
        "name": "ipython",
        "version": 3
      },
      "file_extension": ".py",
      "mimetype": "text/x-python",
      "name": "python",
      "nbconvert_exporter": "python",
      "pygments_lexer": "ipython3",
      "version": "3.11.9"
    }
  },
  "nbformat": 4,
  "nbformat_minor": 0
}
