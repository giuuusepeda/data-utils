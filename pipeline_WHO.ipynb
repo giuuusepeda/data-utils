{
  "cells": [
    {
      "cell_type": "markdown",
      "metadata": {},
      "source": [
        "## Set up"
      ]
    },
    {
      "cell_type": "code",
      "execution_count": null,
      "metadata": {},
      "outputs": [],
      "source": [
        "%load_ext autoreload\n",
        "%autoreload 2"
      ]
    },
    {
      "cell_type": "markdown",
      "metadata": {},
      "source": [
        "Importa funcoes do 'who_data_tools'"
      ]
    },
    {
      "cell_type": "code",
      "execution_count": null,
      "metadata": {},
      "outputs": [],
      "source": [
        "import sys\n",
        "sys.path.append (r'C:\\Users\\giuli\\Documents\\GitHub')\n",
        "from who_data_tools import get_who_data, clean_column_names2, save_to_csv, plot_line, check_data_quality, fix_column_types, drop_constant_columns\n",
        "#from data_utils import *\n",
        "#\"C:\\Users\\giuli\\Documents\\GitHub\\who-data-tools\""
      ]
    },
    {
      "cell_type": "markdown",
      "metadata": {},
      "source": [
        "Carrega os pacotes necessarios"
      ]
    },
    {
      "cell_type": "code",
      "execution_count": null,
      "metadata": {},
      "outputs": [],
      "source": [
        "import pandas as pd\n",
        "import matplotlib.pyplot as plt\n",
        "import numpy as np\n",
        "import who_data_tools as wdt\n"
      ]
    },
    {
      "cell_type": "markdown",
      "metadata": {},
      "source": [
        "## Load Data from API Who"
      ]
    },
    {
      "cell_type": "markdown",
      "metadata": {},
      "source": [
        "The Function `get_who_data(ID)` retrieves data from the WHO based on the indicator ID.\n",
        "\n",
        "The indicator ID can be found [here](https://ghoapi.azureedge.net/api/Indicator).\n",
        "\n",
        "It exports the requested indicator (maternal mortality) from the WHO into a dataframe and displays the first few rows. busca dados do WHO com base no ID do indicador"
      ]
    },
    {
      "cell_type": "code",
      "execution_count": null,
      "metadata": {},
      "outputs": [],
      "source": [
        "df = get_who_data('MDG_0000000026')"
      ]
    },
    {
      "cell_type": "markdown",
      "metadata": {},
      "source": [
        "The function `save_to_csv()` saves the dataframe to a CSV file without the pandas index.\n",
        "\n",
        "Its arguments are the dataframe and the name of the file to be saved."
      ]
    },
    {
      "cell_type": "code",
      "execution_count": null,
      "metadata": {},
      "outputs": [],
      "source": [
        "save_to_csv(df, 'maternal_mortality_raw.csv')"
      ]
    },
    {
      "cell_type": "markdown",
      "metadata": {},
      "source": [
        "## Transform"
      ]
    },
    {
      "cell_type": "markdown",
      "metadata": {},
      "source": []
    },
    {
      "cell_type": "code",
      "execution_count": null,
      "metadata": {},
      "outputs": [],
      "source": [
        "check_data_quality(df)"
      ]
    },
    {
      "cell_type": "markdown",
      "metadata": {},
      "source": [
        "A função 'clean_column_names()' padroniza em minúsculas e troca espaços por \"_\""
      ]
    },
    {
      "cell_type": "code",
      "execution_count": null,
      "metadata": {
        "colab": {
          "base_uri": "https://localhost:8080/",
          "height": 394
        },
        "id": "wo6kpH0NKf35",
        "outputId": "ba882452-9fcf-4f67-e1fb-397accc1fad4"
      },
      "outputs": [],
      "source": [
        "df = clean_column_names2(df)"
      ]
    },
    {
      "cell_type": "markdown",
      "metadata": {},
      "source": [
        "a função drop_empty_columns remove colunas vazias"
      ]
    },
    {
      "cell_type": "code",
      "execution_count": null,
      "metadata": {},
      "outputs": [],
      "source": [
        "df = drop_constant_columns(df)"
      ]
    },
    {
      "cell_type": "code",
      "execution_count": null,
      "metadata": {},
      "outputs": [],
      "source": [
        "fix_column_types(df)"
      ]
    },
    {
      "cell_type": "code",
      "execution_count": null,
      "metadata": {},
      "outputs": [],
      "source": [
        "missing_region = df[\n",
        "    df['parent_location'].isna() | df['parent_location_code'].isna()\n",
        "]\n",
        "\n",
        "countries_missing_region = (\n",
        "    missing_region['spatial_dim']\n",
        "    .drop_duplicates()\n",
        "    .reset_index(drop=True)\n",
        ")\n",
        "print(\"Países sem região:\", countries_missing_region.tolist())\n"
      ]
    },
    {
      "cell_type": "code",
      "execution_count": null,
      "metadata": {},
      "outputs": [],
      "source": [
        "df = df[~df['spatial_dim'].isin(['SEAR', 'EMR', 'EUR', 'AMR', 'WPR', 'AFR', 'GLOBAL'])]\n",
        "df.reset_index(drop=True, inplace=True)\n"
      ]
    },
    {
      "cell_type": "code",
      "execution_count": null,
      "metadata": {},
      "outputs": [],
      "source": [
        "df.drop(columns=['value'], inplace=True)\n"
      ]
    },
    {
      "cell_type": "code",
      "execution_count": null,
      "metadata": {},
      "outputs": [],
      "source": [
        "# funcao read_csv do pandas lê o arquivo CSV e cria um dataframe\n",
        "df = pd.read_csv(\"maternal_mortality.csv\")"
      ]
    },
    {
      "cell_type": "code",
      "execution_count": null,
      "metadata": {},
      "outputs": [],
      "source": [
        "save_to_csv(df, 'maternal_mortality_clean.csv')"
      ]
    },
    {
      "cell_type": "code",
      "execution_count": null,
      "metadata": {},
      "outputs": [],
      "source": [
        "\n",
        "# Importa o módulo e a biblioteca de reload\n",
        "from who_data_tools.src import cleaning\n",
        "import importlib\n",
        "\n",
        "# Recarrega o módulo atualizado\n",
        "importlib.reload(cleaning)\n"
      ]
    }
  ],
  "metadata": {
    "colab": {
      "authorship_tag": "ABX9TyNrhbqS9bt6LNRfi5GqLzFW",
      "provenance": []
    },
    "kernelspec": {
      "display_name": ".venv",
      "language": "python",
      "name": "python3"
    },
    "language_info": {
      "codemirror_mode": {
        "name": "ipython",
        "version": 3
      },
      "file_extension": ".py",
      "mimetype": "text/x-python",
      "name": "python",
      "nbconvert_exporter": "python",
      "pygments_lexer": "ipython3",
      "version": "3.11.9"
    }
  },
  "nbformat": 4,
  "nbformat_minor": 0
}
