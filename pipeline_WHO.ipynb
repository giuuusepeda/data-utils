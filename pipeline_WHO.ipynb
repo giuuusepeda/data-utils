{
  "cells": [
    {
      "cell_type": "markdown",
      "metadata": {
        "slideshow": {
          "slide_type": "slide"
        }
      },
      "source": [
        "# Analysis of the Maternal Mortality Rate by Countries and Regions from 1985 to 2023 using WHO API\n"
      ]
    },
    {
      "cell_type": "markdown",
      "metadata": {},
      "source": [
        "### by Giulia Sepeda"
      ]
    },
    {
      "cell_type": "markdown",
      "metadata": {},
      "source": [
        "[LinkedIn](https://www.linkedin.com/in/giuliasepeda/) | [GitHub repository](https://github.com/giuuusepeda/who-data-tools) | [Web Portfolio](https://giuliasepeda.carrd.co)\n",
        "\n",
        "Data source: [WHO data](https://www.who.int/data/gho/data/indicators/indicator-details/GHO/maternal-mortality-ratio-(per-100-000-live-births) )\n",
        "\n",
        "Start date: July 13th, 2025 | Latest update: August 2nd, 2025"
      ]
    },
    {
      "cell_type": "markdown",
      "metadata": {
        "slideshow": {
          "slide_type": "slide"
        }
      },
      "source": [
        "### Introduction"
      ]
    },
    {
      "cell_type": "markdown",
      "metadata": {},
      "source": [
        "#### Maternal Mortality: A Global Health Crisis\n",
        "\n",
        "> “Every two minutes, a woman dies from preventable causes related to pregnancy or childbirth.” — WHO, 2025\n",
        "\n",
        "- In 2023, over **260,000 women** died from maternal causes — most of them **preventable**.\n",
        "- **92%** of deaths occurred in **low- and lower-middle-income countries**.\n",
        "- **Sub-Saharan Africa** alone accounted for **70%** of all maternal deaths.\n",
        "\n",
        "Despite progress (MMR ↓ 40% since 2000), we're far from the **SDG target** of <70 deaths per 100k live births by 2030.\n"
      ]
    },
    {
      "cell_type": "markdown",
      "metadata": {},
      "source": [
        "\n",
        "#### Why This Project Matters\n",
        "\n",
        "This analysis explores **30+ years of global data** to:\n",
        "\n",
        "- Highlight regional disparities in maternal mortality\n",
        "- Reveal gaps in access to quality care\n",
        "- Provide visual tools to support public health decisions\n",
        "\n",
        "Source: [WHO Data ](https://www.who.int/data/gho/data/indicators/indicator-details/GHO/maternal-mortality-ratio-(per-100-000-live-births) )\n"
      ]
    },
    {
      "cell_type": "markdown",
      "metadata": {
        "slideshow": {
          "slide_type": "slide"
        }
      },
      "source": [
        "### Goals"
      ]
    },
    {
      "cell_type": "markdown",
      "metadata": {},
      "source": [
        "- Create a reusable ETL tool  \n",
        "- Perform exploratory analysis of maternal mortality  \n",
        "- Conduct spatial analysis of MMR  \n",
        "- Merge MMR data with socioeconomic indicators from the WHO API  \n",
        "- Build an interactive dashboard with R Shiny\n"
      ]
    },
    {
      "cell_type": "markdown",
      "metadata": {
        "slideshow": {
          "slide_type": "slide"
        }
      },
      "source": [
        "### Steps"
      ]
    },
    {
      "cell_type": "markdown",
      "metadata": {},
      "source": [
        "1. **Extract** the data using the WHO API  \n",
        "2. **Transform** the data using Pandas  \n",
        "3. **Feature engineering**  \n",
        "4. **Exploratory analysis**  \n",
        "5. **Spatial analysis**  \n",
        "6. **R Shiny dashboard**"
      ]
    },
    {
      "cell_type": "markdown",
      "metadata": {
        "slideshow": {
          "slide_type": "skip"
        }
      },
      "source": [
        "### 0. Set up"
      ]
    },
    {
      "cell_type": "markdown",
      "metadata": {},
      "source": [
        "Creates a autorealoaded enviroment for real time update from reusable functions."
      ]
    },
    {
      "cell_type": "code",
      "execution_count": null,
      "metadata": {
        "slideshow": {
          "slide_type": "skip"
        }
      },
      "outputs": [],
      "source": [
        "%load_ext autoreload\n",
        "%autoreload 2"
      ]
    },
    {
      "cell_type": "markdown",
      "metadata": {},
      "source": [
        "Import functions from 'who_data_tools' as a package"
      ]
    },
    {
      "cell_type": "code",
      "execution_count": null,
      "metadata": {},
      "outputs": [],
      "source": [
        "import sys\n",
        "sys.path.append (r'C:\\Users\\giuli\\Documents\\GitHub')\n",
        "from who_data_tools import get_who_data, clean_column_names2, save_to_csv, plot_line, check_data_quality, fix_column_types, drop_constant_columns"
      ]
    },
    {
      "cell_type": "markdown",
      "metadata": {},
      "source": [
        "Load packages needed"
      ]
    },
    {
      "cell_type": "code",
      "execution_count": null,
      "metadata": {},
      "outputs": [],
      "source": [
        "import pandas as pd\n",
        "import matplotlib.pyplot as plt\n",
        "import numpy as np\n",
        "import who_data_tools "
      ]
    },
    {
      "cell_type": "markdown",
      "metadata": {
        "slideshow": {
          "slide_type": "skip"
        }
      },
      "source": [
        "### 1. Extract Data from API Who"
      ]
    },
    {
      "cell_type": "markdown",
      "metadata": {},
      "source": [
        "The Function `get_who_data(ID)` retrieves data from the WHO based on the indicator ID.\n",
        "\n",
        "It exports the requested indicator (maternal mortality) from the WHO into a dataframe and displays the first few rows. It uses the indicador ID as an argument. \n",
        "\n",
        "The indicator ID can be found [here](https://ghoapi.azureedge.net/api/Indicator)."
      ]
    },
    {
      "cell_type": "code",
      "execution_count": null,
      "metadata": {},
      "outputs": [],
      "source": [
        "df = get_who_data('MDG_0000000026')"
      ]
    },
    {
      "cell_type": "markdown",
      "metadata": {},
      "source": [
        "Saving raw file as CSV"
      ]
    },
    {
      "cell_type": "code",
      "execution_count": null,
      "metadata": {},
      "outputs": [],
      "source": [
        "df.to_csv('data\\maternal_mortality_raw.csv', index=False, sep=',')"
      ]
    },
    {
      "cell_type": "markdown",
      "metadata": {},
      "source": [
        "### 2. Transform Data"
      ]
    },
    {
      "cell_type": "markdown",
      "metadata": {},
      "source": [
        "#### 2.1. Check the raw state of the dataset"
      ]
    },
    {
      "cell_type": "markdown",
      "metadata": {},
      "source": [
        "Gives a starting point and a view of what needs to be done. "
      ]
    },
    {
      "cell_type": "markdown",
      "metadata": {},
      "source": [
        "Uses `check_data_quality()` function. \n",
        "\n",
        "Used to exibit infos about the df:\n",
        "- data type\n",
        "- null values\n",
        "- duplicates"
      ]
    },
    {
      "cell_type": "code",
      "execution_count": null,
      "metadata": {},
      "outputs": [],
      "source": [
        "check_data_quality(df)"
      ]
    },
    {
      "cell_type": "markdown",
      "metadata": {},
      "source": [
        "#### 2.2. Correct the columns names"
      ]
    },
    {
      "cell_type": "markdown",
      "metadata": {},
      "source": [
        "The function `clean_column_names2()` padronizes column names from CamelCase to snake_case, lower case and no special caracters."
      ]
    },
    {
      "cell_type": "code",
      "execution_count": null,
      "metadata": {
        "colab": {
          "base_uri": "https://localhost:8080/",
          "height": 394
        },
        "id": "wo6kpH0NKf35",
        "outputId": "ba882452-9fcf-4f67-e1fb-397accc1fad4"
      },
      "outputs": [],
      "source": [
        "df = clean_column_names2(df)"
      ]
    },
    {
      "cell_type": "markdown",
      "metadata": {},
      "source": [
        "#### 2.3. Drop constant and empty columns"
      ]
    },
    {
      "cell_type": "markdown",
      "metadata": {},
      "source": [
        "The Function `drop_constant_columns()` removes columns that all observations are the same"
      ]
    },
    {
      "cell_type": "code",
      "execution_count": null,
      "metadata": {},
      "outputs": [],
      "source": [
        "df = drop_constant_columns(df)"
      ]
    },
    {
      "cell_type": "markdown",
      "metadata": {},
      "source": [
        "#### 2.4. Drop columns that won`t be used on the analysis"
      ]
    },
    {
      "cell_type": "markdown",
      "metadata": {},
      "source": [
        "- `time_dimension_begin` and `time_dimension_end`: timestamp start and end data generation\n",
        "- `date`: date when the data was collected\n",
        "- `time_dimension_value`: year (doppled) with `time_dim`"
      ]
    },
    {
      "cell_type": "code",
      "execution_count": null,
      "metadata": {},
      "outputs": [],
      "source": [
        "df.drop(columns=['time_dimension_begin', 'time_dimension_end', 'date', 'time_dimension_value'], inplace=True)"
      ]
    },
    {
      "cell_type": "markdown",
      "metadata": {},
      "source": [
        "#### 2.5. Change the data format"
      ]
    },
    {
      "cell_type": "code",
      "execution_count": null,
      "metadata": {},
      "outputs": [],
      "source": [
        "fix_column_types(df)"
      ]
    },
    {
      "cell_type": "markdown",
      "metadata": {},
      "source": [
        "#### 2.6. Check results of Transformation and check if something still needs to be done"
      ]
    },
    {
      "cell_type": "code",
      "execution_count": null,
      "metadata": {},
      "outputs": [],
      "source": [
        "check_data_quality(df)"
      ]
    },
    {
      "cell_type": "markdown",
      "metadata": {},
      "source": [
        "#### 2.7 ~~Drop lines containing region-level information~~"
      ]
    },
    {
      "cell_type": "markdown",
      "metadata": {},
      "source": [
        "(Commented out later, after realizing it was useful for analysis and the dashboard.)\n",
        "\n",
        "The maternal mortality rate (MMR), or maternal mortality ratio (MMR), refers to the number of maternal deaths per 100,000 live births.\n",
        "\n",
        "That said, regional MMR cannot be accurately built from country-level values. The median may differ from the actual regional MMR due to disparities in population size."
      ]
    },
    {
      "cell_type": "code",
      "execution_count": null,
      "metadata": {},
      "outputs": [],
      "source": [
        "\"\"\"\n",
        "missing_region = df[\n",
        "    df['parent_location'].isna() | df['parent_location_code'].isna()\n",
        "]\n",
        "\n",
        "countries_missing_region = (\n",
        "    missing_region['spatial_dim']\n",
        "    .drop_duplicates()\n",
        "    .reset_index(drop=True)\n",
        ")\n",
        "print(\"Países sem região:\", countries_missing_region.tolist())\n",
        "\n",
        "\n",
        "df = df[~df['spatial_dim'].isin(['SEAR', 'EMR', 'EUR', 'AMR', 'WPR', 'AFR', 'GLOBAL'])]\n",
        "df.reset_index(drop=True, inplace=True)\n",
        "\"\"\""
      ]
    },
    {
      "cell_type": "markdown",
      "metadata": {},
      "source": [
        "#### 2.8. Export all changes"
      ]
    },
    {
      "cell_type": "code",
      "execution_count": null,
      "metadata": {},
      "outputs": [],
      "source": [
        "df.to_csv('data\\maternal_mortality_clean.csv', index=False, sep=',')"
      ]
    },
    {
      "cell_type": "markdown",
      "metadata": {},
      "source": [
        "### 3. Feature Engineering"
      ]
    },
    {
      "cell_type": "markdown",
      "metadata": {},
      "source": [
        "### 4. Exploratory analysis"
      ]
    },
    {
      "cell_type": "markdown",
      "metadata": {},
      "source": [
        "![MMR trend](plots\\tableau_trend.jpg)"
      ]
    },
    {
      "cell_type": "markdown",
      "metadata": {},
      "source": [
        "### 5. Spatial analysis"
      ]
    },
    {
      "cell_type": "markdown",
      "metadata": {},
      "source": [
        "### 6. [R Shiny dashboard](https://giuliasepeda.shinyapps.io/maternal_mortality_who/)"
      ]
    }
  ],
  "metadata": {
    "colab": {
      "authorship_tag": "ABX9TyNrhbqS9bt6LNRfi5GqLzFW",
      "provenance": []
    },
    "kernelspec": {
      "display_name": ".venv",
      "language": "python",
      "name": "python3"
    },
    "language_info": {
      "codemirror_mode": {
        "name": "ipython",
        "version": 3
      },
      "file_extension": ".py",
      "mimetype": "text/x-python",
      "name": "python",
      "nbconvert_exporter": "python",
      "pygments_lexer": "ipython3",
      "version": "3.11.9"
    }
  },
  "nbformat": 4,
  "nbformat_minor": 0
}
