{
  "cells": [
    {
      "cell_type": "markdown",
      "metadata": {},
      "source": [
        "# API WHO: Pipeline ETL\n",
        "Este notebook implementa um fluxo de ETL (Extract, Transform, Load) para:\n",
        "-  Carregar dados da API da OMS (WHO)\n",
        "-  Transformar e limpar os dados\n",
        "-  Exportar um dataset pronto para análise"
      ]
    },
    {
      "cell_type": "markdown",
      "metadata": {},
      "source": [
        "## Set up"
      ]
    },
    {
      "cell_type": "code",
      "execution_count": 8,
      "metadata": {},
      "outputs": [],
      "source": [
        "%load_ext autoreload\n",
        "%autoreload 2"
      ]
    },
    {
      "cell_type": "markdown",
      "metadata": {},
      "source": [
        "Importa funcoes do 'who_data_tools'"
      ]
    },
    {
      "cell_type": "code",
      "execution_count": 34,
      "metadata": {},
      "outputs": [],
      "source": [
        "import sys\n",
        "sys.path.append (r'C:\\Users\\giuli\\Documents\\GitHub')\n",
        "from who_data_tools import get_who_data, clean_column_names2, save_to_csv, plot_line, drop_empty_columns, check_data_quality, fix_column_types\n",
        "#from data_utils import *\n",
        "#\"C:\\Users\\giuli\\Documents\\GitHub\\who-data-tools\""
      ]
    },
    {
      "cell_type": "markdown",
      "metadata": {},
      "source": [
        "Carrega os pacotes necessarios"
      ]
    },
    {
      "cell_type": "code",
      "execution_count": 3,
      "metadata": {},
      "outputs": [],
      "source": [
        "import pandas as pd\n",
        "import matplotlib.pyplot as plt\n",
        "import numpy as np\n",
        "import who_data_tools as wdt\n"
      ]
    },
    {
      "cell_type": "markdown",
      "metadata": {},
      "source": [
        "## Carrega dados da API Who"
      ]
    },
    {
      "cell_type": "markdown",
      "metadata": {},
      "source": [
        "A função 'get_who_data(ID)' busca dados do WHO com base no ID do indicador\n",
        "\n",
        "o ID do indicador é encontrado [aqui](https://ghoapi.azureedge.net/api/Indicator)\n",
        "\n",
        "Exporta o indicador solicitado (Mortalidade materna) do WHO para um dataframe e exibe as primeiras linhas"
      ]
    },
    {
      "cell_type": "code",
      "execution_count": 28,
      "metadata": {},
      "outputs": [],
      "source": [
        "df = get_who_data('MDG_0000000026')"
      ]
    },
    {
      "cell_type": "markdown",
      "metadata": {},
      "source": [
        "a função 'save_to_csv()' salva o dataframe em um arquivo CSV sem indice do pandas \n",
        "\n",
        "argumentos sao o dataframe e o nome do arquivo que sera salvo"
      ]
    },
    {
      "cell_type": "code",
      "execution_count": 12,
      "metadata": {},
      "outputs": [],
      "source": [
        "save_to_csv(df, 'maternal_mortality_raw.csv')"
      ]
    },
    {
      "cell_type": "markdown",
      "metadata": {},
      "source": [
        "## Limpeza"
      ]
    },
    {
      "cell_type": "markdown",
      "metadata": {},
      "source": []
    },
    {
      "cell_type": "code",
      "execution_count": 43,
      "metadata": {},
      "outputs": [
        {
          "name": "stdout",
          "output_type": "stream",
          "text": [
            "\n",
            " Info do DataFrame:\n",
            "<class 'pandas.core.frame.DataFrame'>\n",
            "RangeIndex: 7605 entries, 0 to 7604\n",
            "Data columns (total 15 columns):\n",
            " #   Column                Non-Null Count  Dtype                    \n",
            "---  ------                --------------  -----                    \n",
            " 0   id                    7605 non-null   int64                    \n",
            " 1   indicator_code        7605 non-null   category                 \n",
            " 2   spatial_dim_type      7605 non-null   category                 \n",
            " 3   spatial_dim           7605 non-null   category                 \n",
            " 4   time_dim_type         7605 non-null   category                 \n",
            " 5   parent_location_code  7605 non-null   category                 \n",
            " 6   parent_location       7605 non-null   category                 \n",
            " 7   time_dim              7605 non-null   int64                    \n",
            " 8   numeric_value         7605 non-null   float64                  \n",
            " 9   low                   7605 non-null   float64                  \n",
            " 10  high                  7605 non-null   float64                  \n",
            " 11  date                  7605 non-null   datetime64[ns, UTC+02:00]\n",
            " 12  time_dimension_value  7605 non-null   int64                    \n",
            " 13  time_dimension_begin  7605 non-null   datetime64[ns, UTC+01:00]\n",
            " 14  time_dimension_end    7605 non-null   datetime64[ns, UTC+01:00]\n",
            "dtypes: category(6), datetime64[ns, UTC+01:00](2), datetime64[ns, UTC+02:00](1), float64(3), int64(3)\n",
            "memory usage: 597.3 KB\n",
            "None\n",
            "\n",
            " Tipos de Dados:\n",
            "id                                          int64\n",
            "indicator_code                           category\n",
            "spatial_dim_type                         category\n",
            "spatial_dim                              category\n",
            "time_dim_type                            category\n",
            "parent_location_code                     category\n",
            "parent_location                          category\n",
            "time_dim                                    int64\n",
            "numeric_value                             float64\n",
            "low                                       float64\n",
            "high                                      float64\n",
            "date                    datetime64[ns, UTC+02:00]\n",
            "time_dimension_value                        int64\n",
            "time_dimension_begin    datetime64[ns, UTC+01:00]\n",
            "time_dimension_end      datetime64[ns, UTC+01:00]\n",
            "dtype: object\n",
            "\n",
            " Estatísticas Descritivas:\n",
            "                  id  indicator_code spatial_dim_type spatial_dim  \\\n",
            "count   7.605000e+03            7605             7605        7605   \n",
            "unique           NaN               1                1         195   \n",
            "top              NaN  MDG_0000000026          COUNTRY         AFG   \n",
            "freq             NaN            7605             7605          39   \n",
            "mean    4.961889e+06             NaN              NaN         NaN   \n",
            "min     3.993000e+03             NaN              NaN         NaN   \n",
            "25%     2.483357e+06             NaN              NaN         NaN   \n",
            "50%     4.919571e+06             NaN              NaN         NaN   \n",
            "75%     7.461218e+06             NaN              NaN         NaN   \n",
            "max     1.001687e+07             NaN              NaN         NaN   \n",
            "std     2.875750e+06             NaN              NaN         NaN   \n",
            "\n",
            "       time_dim_type parent_location_code parent_location     time_dim  \\\n",
            "count           7605                 7605            7605  7605.000000   \n",
            "unique             1                    6               6          NaN   \n",
            "top             YEAR                  EUR          Europe          NaN   \n",
            "freq            7605                 2067            2067          NaN   \n",
            "mean             NaN                  NaN             NaN  2004.000000   \n",
            "min              NaN                  NaN             NaN  1985.000000   \n",
            "25%              NaN                  NaN             NaN  1994.000000   \n",
            "50%              NaN                  NaN             NaN  2004.000000   \n",
            "75%              NaN                  NaN             NaN  2014.000000   \n",
            "max              NaN                  NaN             NaN  2023.000000   \n",
            "std              NaN                  NaN             NaN    11.255369   \n",
            "\n",
            "        numeric_value          low          high  \\\n",
            "count     7605.000000  7605.000000   7605.000000   \n",
            "unique            NaN          NaN           NaN   \n",
            "top               NaN          NaN           NaN   \n",
            "freq              NaN          NaN           NaN   \n",
            "mean       231.189183   167.317019    320.154977   \n",
            "min          0.107251     0.064314      0.163086   \n",
            "25%         17.805038    13.690124     23.612269   \n",
            "50%         70.013772    51.731003     88.421535   \n",
            "75%        296.041379   213.981663    425.719420   \n",
            "max       8044.862936  5233.783190  11640.088140   \n",
            "std        401.649119   280.992216    564.014683   \n",
            "\n",
            "                                       date  time_dimension_value  \\\n",
            "count                                  7605           7605.000000   \n",
            "unique                                  NaN                   NaN   \n",
            "top                                     NaN                   NaN   \n",
            "freq                                    NaN                   NaN   \n",
            "mean    2025-04-10 06:55:20.386485760+02:00           2004.000000   \n",
            "min        2025-04-07 06:46:44.380000+02:00           1985.000000   \n",
            "25%     2025-04-10 15:44:11.956999936+02:00           1994.000000   \n",
            "50%     2025-04-10 15:44:11.956999936+02:00           2004.000000   \n",
            "75%     2025-04-10 15:44:11.956999936+02:00           2014.000000   \n",
            "max        2025-04-10 15:44:11.957000+02:00           2023.000000   \n",
            "std                                     NaN             11.255369   \n",
            "\n",
            "                       time_dimension_begin  \\\n",
            "count                                  7605   \n",
            "unique                                  NaN   \n",
            "top                                     NaN   \n",
            "freq                                    NaN   \n",
            "mean    2004-01-01 09:13:50.769230720+01:00   \n",
            "min               1985-01-01 00:00:00+01:00   \n",
            "25%               1994-01-01 00:00:00+01:00   \n",
            "50%               2004-01-01 00:00:00+01:00   \n",
            "75%               2014-01-01 00:00:00+01:00   \n",
            "max               2023-01-01 00:00:00+01:00   \n",
            "std                                     NaN   \n",
            "\n",
            "                         time_dimension_end  \n",
            "count                                  7605  \n",
            "unique                                  NaN  \n",
            "top                                     NaN  \n",
            "freq                                    NaN  \n",
            "mean    2004-12-30 14:46:09.230769280+01:00  \n",
            "min               1985-12-31 00:00:00+01:00  \n",
            "25%               1994-12-31 00:00:00+01:00  \n",
            "50%               2004-12-31 00:00:00+01:00  \n",
            "75%               2014-12-31 00:00:00+01:00  \n",
            "max               2023-12-31 00:00:00+01:00  \n",
            "std                                     NaN  \n",
            "\n",
            " Valores Nulos por Coluna:\n",
            "id                      0\n",
            "indicator_code          0\n",
            "spatial_dim_type        0\n",
            "spatial_dim             0\n",
            "time_dim_type           0\n",
            "parent_location_code    0\n",
            "parent_location         0\n",
            "time_dim                0\n",
            "numeric_value           0\n",
            "low                     0\n",
            "high                    0\n",
            "date                    0\n",
            "time_dimension_value    0\n",
            "time_dimension_begin    0\n",
            "time_dimension_end      0\n",
            "dtype: int64\n",
            "\n",
            " Total de Duplicatas:\n",
            "0\n"
          ]
        }
      ],
      "source": [
        "check_data_quality(df)"
      ]
    },
    {
      "cell_type": "markdown",
      "metadata": {},
      "source": [
        "A função 'clean_column_names()' padroniza em minúsculas e troca espaços por \"_\""
      ]
    },
    {
      "cell_type": "code",
      "execution_count": 30,
      "metadata": {
        "colab": {
          "base_uri": "https://localhost:8080/",
          "height": 394
        },
        "id": "wo6kpH0NKf35",
        "outputId": "ba882452-9fcf-4f67-e1fb-397accc1fad4"
      },
      "outputs": [],
      "source": [
        "df = clean_column_names2(df)"
      ]
    },
    {
      "cell_type": "markdown",
      "metadata": {},
      "source": [
        "a função drop_empty_columns remove colunas vazias"
      ]
    },
    {
      "cell_type": "code",
      "execution_count": 31,
      "metadata": {},
      "outputs": [],
      "source": [
        "df = drop_empty_columns(df)"
      ]
    },
    {
      "cell_type": "code",
      "execution_count": 35,
      "metadata": {},
      "outputs": [
        {
          "name": "stdout",
          "output_type": "stream",
          "text": [
            "indicator_code: convertido para category\n",
            "spatial_dim_type: convertido para category\n",
            "spatial_dim: convertido para category\n",
            "time_dim_type: convertido para category\n",
            "parent_location_code: convertido para category\n",
            "parent_location: convertido para category\n",
            "date: convertido para datetime\n",
            "time_dimension_begin: convertido para datetime\n",
            "time_dimension_end: convertido para datetime\n",
            "time_dimension_value: convertido para int\n"
          ]
        },
        {
          "data": {
            "text/html": [
              "<div>\n",
              "<style scoped>\n",
              "    .dataframe tbody tr th:only-of-type {\n",
              "        vertical-align: middle;\n",
              "    }\n",
              "\n",
              "    .dataframe tbody tr th {\n",
              "        vertical-align: top;\n",
              "    }\n",
              "\n",
              "    .dataframe thead th {\n",
              "        text-align: right;\n",
              "    }\n",
              "</style>\n",
              "<table border=\"1\" class=\"dataframe\">\n",
              "  <thead>\n",
              "    <tr style=\"text-align: right;\">\n",
              "      <th></th>\n",
              "      <th>id</th>\n",
              "      <th>indicator_code</th>\n",
              "      <th>spatial_dim_type</th>\n",
              "      <th>spatial_dim</th>\n",
              "      <th>time_dim_type</th>\n",
              "      <th>parent_location_code</th>\n",
              "      <th>parent_location</th>\n",
              "      <th>time_dim</th>\n",
              "      <th>value</th>\n",
              "      <th>numeric_value</th>\n",
              "      <th>low</th>\n",
              "      <th>high</th>\n",
              "      <th>date</th>\n",
              "      <th>time_dimension_value</th>\n",
              "      <th>time_dimension_begin</th>\n",
              "      <th>time_dimension_end</th>\n",
              "    </tr>\n",
              "  </thead>\n",
              "  <tbody>\n",
              "    <tr>\n",
              "      <th>0</th>\n",
              "      <td>5395872</td>\n",
              "      <td>MDG_0000000026</td>\n",
              "      <td>COUNTRY</td>\n",
              "      <td>SVK</td>\n",
              "      <td>YEAR</td>\n",
              "      <td>EUR</td>\n",
              "      <td>Europe</td>\n",
              "      <td>2007</td>\n",
              "      <td>6 [5-8]</td>\n",
              "      <td>6.421854</td>\n",
              "      <td>4.863214</td>\n",
              "      <td>8.390841</td>\n",
              "      <td>2025-04-07 06:46:44.380000+02:00</td>\n",
              "      <td>2007</td>\n",
              "      <td>2007-01-01 00:00:00+01:00</td>\n",
              "      <td>2007-12-31 00:00:00+01:00</td>\n",
              "    </tr>\n",
              "    <tr>\n",
              "      <th>1</th>\n",
              "      <td>5395976</td>\n",
              "      <td>MDG_0000000026</td>\n",
              "      <td>COUNTRY</td>\n",
              "      <td>COD</td>\n",
              "      <td>YEAR</td>\n",
              "      <td>AFR</td>\n",
              "      <td>Africa</td>\n",
              "      <td>2011</td>\n",
              "      <td>589 [452-791]</td>\n",
              "      <td>589.270978</td>\n",
              "      <td>451.936766</td>\n",
              "      <td>791.005315</td>\n",
              "      <td>2025-04-10 15:44:11.957000+02:00</td>\n",
              "      <td>2011</td>\n",
              "      <td>2011-01-01 00:00:00+01:00</td>\n",
              "      <td>2011-12-31 00:00:00+01:00</td>\n",
              "    </tr>\n",
              "    <tr>\n",
              "      <th>2</th>\n",
              "      <td>3993</td>\n",
              "      <td>MDG_0000000026</td>\n",
              "      <td>COUNTRY</td>\n",
              "      <td>CPV</td>\n",
              "      <td>YEAR</td>\n",
              "      <td>AFR</td>\n",
              "      <td>Africa</td>\n",
              "      <td>2009</td>\n",
              "      <td>62 [42-90]</td>\n",
              "      <td>62.243807</td>\n",
              "      <td>41.633929</td>\n",
              "      <td>89.712572</td>\n",
              "      <td>2025-04-10 15:44:11.957000+02:00</td>\n",
              "      <td>2009</td>\n",
              "      <td>2009-01-01 00:00:00+01:00</td>\n",
              "      <td>2009-12-31 00:00:00+01:00</td>\n",
              "    </tr>\n",
              "    <tr>\n",
              "      <th>3</th>\n",
              "      <td>4791</td>\n",
              "      <td>MDG_0000000026</td>\n",
              "      <td>COUNTRY</td>\n",
              "      <td>HUN</td>\n",
              "      <td>YEAR</td>\n",
              "      <td>EUR</td>\n",
              "      <td>Europe</td>\n",
              "      <td>1992</td>\n",
              "      <td>24 [20-28]</td>\n",
              "      <td>23.580291</td>\n",
              "      <td>19.820893</td>\n",
              "      <td>28.112630</td>\n",
              "      <td>2025-04-10 15:44:11.957000+02:00</td>\n",
              "      <td>1992</td>\n",
              "      <td>1992-01-01 00:00:00+01:00</td>\n",
              "      <td>1992-12-31 00:00:00+01:00</td>\n",
              "    </tr>\n",
              "    <tr>\n",
              "      <th>4</th>\n",
              "      <td>6015</td>\n",
              "      <td>MDG_0000000026</td>\n",
              "      <td>COUNTRY</td>\n",
              "      <td>CYP</td>\n",
              "      <td>YEAR</td>\n",
              "      <td>EUR</td>\n",
              "      <td>Europe</td>\n",
              "      <td>1993</td>\n",
              "      <td>15 [9-24]</td>\n",
              "      <td>14.682759</td>\n",
              "      <td>9.094648</td>\n",
              "      <td>23.549916</td>\n",
              "      <td>2025-04-10 15:44:11.957000+02:00</td>\n",
              "      <td>1993</td>\n",
              "      <td>1993-01-01 00:00:00+01:00</td>\n",
              "      <td>1993-12-31 00:00:00+01:00</td>\n",
              "    </tr>\n",
              "    <tr>\n",
              "      <th>...</th>\n",
              "      <td>...</td>\n",
              "      <td>...</td>\n",
              "      <td>...</td>\n",
              "      <td>...</td>\n",
              "      <td>...</td>\n",
              "      <td>...</td>\n",
              "      <td>...</td>\n",
              "      <td>...</td>\n",
              "      <td>...</td>\n",
              "      <td>...</td>\n",
              "      <td>...</td>\n",
              "      <td>...</td>\n",
              "      <td>...</td>\n",
              "      <td>...</td>\n",
              "      <td>...</td>\n",
              "      <td>...</td>\n",
              "    </tr>\n",
              "    <tr>\n",
              "      <th>7873</th>\n",
              "      <td>10010759</td>\n",
              "      <td>MDG_0000000026</td>\n",
              "      <td>COUNTRY</td>\n",
              "      <td>RWA</td>\n",
              "      <td>YEAR</td>\n",
              "      <td>AFR</td>\n",
              "      <td>Africa</td>\n",
              "      <td>2021</td>\n",
              "      <td>254 [183-389]</td>\n",
              "      <td>253.969864</td>\n",
              "      <td>182.936545</td>\n",
              "      <td>389.241850</td>\n",
              "      <td>2025-04-10 15:44:11.957000+02:00</td>\n",
              "      <td>2021</td>\n",
              "      <td>2021-01-01 00:00:00+01:00</td>\n",
              "      <td>2021-12-31 00:00:00+01:00</td>\n",
              "    </tr>\n",
              "    <tr>\n",
              "      <th>7874</th>\n",
              "      <td>10012899</td>\n",
              "      <td>MDG_0000000026</td>\n",
              "      <td>COUNTRY</td>\n",
              "      <td>BEL</td>\n",
              "      <td>YEAR</td>\n",
              "      <td>EUR</td>\n",
              "      <td>Europe</td>\n",
              "      <td>2009</td>\n",
              "      <td>6 [5-7]</td>\n",
              "      <td>6.255525</td>\n",
              "      <td>5.277053</td>\n",
              "      <td>7.464873</td>\n",
              "      <td>2025-04-07 06:46:44.380000+02:00</td>\n",
              "      <td>2009</td>\n",
              "      <td>2009-01-01 00:00:00+01:00</td>\n",
              "      <td>2009-12-31 00:00:00+01:00</td>\n",
              "    </tr>\n",
              "    <tr>\n",
              "      <th>7875</th>\n",
              "      <td>10013903</td>\n",
              "      <td>MDG_0000000026</td>\n",
              "      <td>COUNTRY</td>\n",
              "      <td>CYP</td>\n",
              "      <td>YEAR</td>\n",
              "      <td>EUR</td>\n",
              "      <td>Europe</td>\n",
              "      <td>1986</td>\n",
              "      <td>18 [10-30]</td>\n",
              "      <td>17.721089</td>\n",
              "      <td>9.690470</td>\n",
              "      <td>29.999933</td>\n",
              "      <td>2025-04-10 15:44:11.957000+02:00</td>\n",
              "      <td>1986</td>\n",
              "      <td>1986-01-01 00:00:00+01:00</td>\n",
              "      <td>1986-12-31 00:00:00+01:00</td>\n",
              "    </tr>\n",
              "    <tr>\n",
              "      <th>7876</th>\n",
              "      <td>10015883</td>\n",
              "      <td>MDG_0000000026</td>\n",
              "      <td>COUNTRY</td>\n",
              "      <td>SEN</td>\n",
              "      <td>YEAR</td>\n",
              "      <td>AFR</td>\n",
              "      <td>Africa</td>\n",
              "      <td>2010</td>\n",
              "      <td>436 [354-549]</td>\n",
              "      <td>435.510739</td>\n",
              "      <td>353.888800</td>\n",
              "      <td>548.661292</td>\n",
              "      <td>2025-04-10 15:44:11.957000+02:00</td>\n",
              "      <td>2010</td>\n",
              "      <td>2010-01-01 00:00:00+01:00</td>\n",
              "      <td>2010-12-31 00:00:00+01:00</td>\n",
              "    </tr>\n",
              "    <tr>\n",
              "      <th>7877</th>\n",
              "      <td>10016874</td>\n",
              "      <td>MDG_0000000026</td>\n",
              "      <td>COUNTRY</td>\n",
              "      <td>BRN</td>\n",
              "      <td>YEAR</td>\n",
              "      <td>WPR</td>\n",
              "      <td>Western Pacific</td>\n",
              "      <td>2023</td>\n",
              "      <td>36 [25-52]</td>\n",
              "      <td>36.354046</td>\n",
              "      <td>24.868454</td>\n",
              "      <td>52.337206</td>\n",
              "      <td>2025-04-10 15:44:11.957000+02:00</td>\n",
              "      <td>2023</td>\n",
              "      <td>2023-01-01 00:00:00+01:00</td>\n",
              "      <td>2023-12-31 00:00:00+01:00</td>\n",
              "    </tr>\n",
              "  </tbody>\n",
              "</table>\n",
              "<p>7878 rows × 16 columns</p>\n",
              "</div>"
            ],
            "text/plain": [
              "            id  indicator_code spatial_dim_type spatial_dim time_dim_type  \\\n",
              "0      5395872  MDG_0000000026          COUNTRY         SVK          YEAR   \n",
              "1      5395976  MDG_0000000026          COUNTRY         COD          YEAR   \n",
              "2         3993  MDG_0000000026          COUNTRY         CPV          YEAR   \n",
              "3         4791  MDG_0000000026          COUNTRY         HUN          YEAR   \n",
              "4         6015  MDG_0000000026          COUNTRY         CYP          YEAR   \n",
              "...        ...             ...              ...         ...           ...   \n",
              "7873  10010759  MDG_0000000026          COUNTRY         RWA          YEAR   \n",
              "7874  10012899  MDG_0000000026          COUNTRY         BEL          YEAR   \n",
              "7875  10013903  MDG_0000000026          COUNTRY         CYP          YEAR   \n",
              "7876  10015883  MDG_0000000026          COUNTRY         SEN          YEAR   \n",
              "7877  10016874  MDG_0000000026          COUNTRY         BRN          YEAR   \n",
              "\n",
              "     parent_location_code  parent_location  time_dim          value  \\\n",
              "0                     EUR           Europe      2007        6 [5-8]   \n",
              "1                     AFR           Africa      2011  589 [452-791]   \n",
              "2                     AFR           Africa      2009     62 [42-90]   \n",
              "3                     EUR           Europe      1992     24 [20-28]   \n",
              "4                     EUR           Europe      1993      15 [9-24]   \n",
              "...                   ...              ...       ...            ...   \n",
              "7873                  AFR           Africa      2021  254 [183-389]   \n",
              "7874                  EUR           Europe      2009        6 [5-7]   \n",
              "7875                  EUR           Europe      1986     18 [10-30]   \n",
              "7876                  AFR           Africa      2010  436 [354-549]   \n",
              "7877                  WPR  Western Pacific      2023     36 [25-52]   \n",
              "\n",
              "      numeric_value         low        high                             date  \\\n",
              "0          6.421854    4.863214    8.390841 2025-04-07 06:46:44.380000+02:00   \n",
              "1        589.270978  451.936766  791.005315 2025-04-10 15:44:11.957000+02:00   \n",
              "2         62.243807   41.633929   89.712572 2025-04-10 15:44:11.957000+02:00   \n",
              "3         23.580291   19.820893   28.112630 2025-04-10 15:44:11.957000+02:00   \n",
              "4         14.682759    9.094648   23.549916 2025-04-10 15:44:11.957000+02:00   \n",
              "...             ...         ...         ...                              ...   \n",
              "7873     253.969864  182.936545  389.241850 2025-04-10 15:44:11.957000+02:00   \n",
              "7874       6.255525    5.277053    7.464873 2025-04-07 06:46:44.380000+02:00   \n",
              "7875      17.721089    9.690470   29.999933 2025-04-10 15:44:11.957000+02:00   \n",
              "7876     435.510739  353.888800  548.661292 2025-04-10 15:44:11.957000+02:00   \n",
              "7877      36.354046   24.868454   52.337206 2025-04-10 15:44:11.957000+02:00   \n",
              "\n",
              "      time_dimension_value      time_dimension_begin        time_dimension_end  \n",
              "0                     2007 2007-01-01 00:00:00+01:00 2007-12-31 00:00:00+01:00  \n",
              "1                     2011 2011-01-01 00:00:00+01:00 2011-12-31 00:00:00+01:00  \n",
              "2                     2009 2009-01-01 00:00:00+01:00 2009-12-31 00:00:00+01:00  \n",
              "3                     1992 1992-01-01 00:00:00+01:00 1992-12-31 00:00:00+01:00  \n",
              "4                     1993 1993-01-01 00:00:00+01:00 1993-12-31 00:00:00+01:00  \n",
              "...                    ...                       ...                       ...  \n",
              "7873                  2021 2021-01-01 00:00:00+01:00 2021-12-31 00:00:00+01:00  \n",
              "7874                  2009 2009-01-01 00:00:00+01:00 2009-12-31 00:00:00+01:00  \n",
              "7875                  1986 1986-01-01 00:00:00+01:00 1986-12-31 00:00:00+01:00  \n",
              "7876                  2010 2010-01-01 00:00:00+01:00 2010-12-31 00:00:00+01:00  \n",
              "7877                  2023 2023-01-01 00:00:00+01:00 2023-12-31 00:00:00+01:00  \n",
              "\n",
              "[7878 rows x 16 columns]"
            ]
          },
          "execution_count": 35,
          "metadata": {},
          "output_type": "execute_result"
        }
      ],
      "source": [
        "fix_column_types(df)"
      ]
    },
    {
      "cell_type": "code",
      "execution_count": 39,
      "metadata": {},
      "outputs": [
        {
          "name": "stdout",
          "output_type": "stream",
          "text": [
            "Países sem região: ['SEAR', 'EMR', 'EUR', 'AMR', 'WPR', 'AFR', 'GLOBAL']\n"
          ]
        }
      ],
      "source": [
        "missing_region = df[\n",
        "    df['parent_location'].isna() | df['parent_location_code'].isna()\n",
        "]\n",
        "\n",
        "countries_missing_region = (\n",
        "    missing_region['spatial_dim']\n",
        "    .drop_duplicates()\n",
        "    .reset_index(drop=True)\n",
        ")\n",
        "print(\"Países sem região:\", countries_missing_region.tolist())\n"
      ]
    },
    {
      "cell_type": "code",
      "execution_count": 40,
      "metadata": {},
      "outputs": [],
      "source": [
        "df = df[~df['spatial_dim'].isin(['SEAR', 'EMR', 'EUR', 'AMR', 'WPR', 'AFR', 'GLOBAL'])]\n",
        "df.reset_index(drop=True, inplace=True)\n"
      ]
    },
    {
      "cell_type": "code",
      "execution_count": 42,
      "metadata": {},
      "outputs": [
        {
          "name": "stderr",
          "output_type": "stream",
          "text": [
            "C:\\Users\\giuli\\AppData\\Local\\Temp\\ipykernel_20456\\3900809556.py:1: SettingWithCopyWarning: \n",
            "A value is trying to be set on a copy of a slice from a DataFrame\n",
            "\n",
            "See the caveats in the documentation: https://pandas.pydata.org/pandas-docs/stable/user_guide/indexing.html#returning-a-view-versus-a-copy\n",
            "  df.drop(columns=['value'], inplace=True)\n"
          ]
        }
      ],
      "source": [
        "df.drop(columns=['value'], inplace=True)\n"
      ]
    },
    {
      "cell_type": "code",
      "execution_count": 14,
      "metadata": {},
      "outputs": [],
      "source": [
        "# funcao read_csv do pandas lê o arquivo CSV e cria um dataframe\n",
        "df = pd.read_csv(\"maternal_mortality.csv\")"
      ]
    },
    {
      "cell_type": "code",
      "execution_count": 44,
      "metadata": {},
      "outputs": [],
      "source": [
        "save_to_csv(df, 'maternal_mortality_clean.csv')"
      ]
    },
    {
      "cell_type": "code",
      "execution_count": 32,
      "metadata": {},
      "outputs": [
        {
          "data": {
            "text/plain": [
              "<module 'who_data_tools.src.cleaning' from 'C:\\\\Users\\\\giuli\\\\Documents\\\\GitHub\\\\who_data_tools\\\\src\\\\cleaning.py'>"
            ]
          },
          "execution_count": 32,
          "metadata": {},
          "output_type": "execute_result"
        }
      ],
      "source": [
        "\n",
        "# Importa o módulo e a biblioteca de reload\n",
        "from who_data_tools.src import cleaning\n",
        "import importlib\n",
        "\n",
        "# Recarrega o módulo atualizado\n",
        "importlib.reload(cleaning)\n"
      ]
    }
  ],
  "metadata": {
    "colab": {
      "authorship_tag": "ABX9TyNrhbqS9bt6LNRfi5GqLzFW",
      "provenance": []
    },
    "kernelspec": {
      "display_name": ".venv",
      "language": "python",
      "name": "python3"
    },
    "language_info": {
      "codemirror_mode": {
        "name": "ipython",
        "version": 3
      },
      "file_extension": ".py",
      "mimetype": "text/x-python",
      "name": "python",
      "nbconvert_exporter": "python",
      "pygments_lexer": "ipython3",
      "version": "3.11.9"
    }
  },
  "nbformat": 4,
  "nbformat_minor": 0
}
